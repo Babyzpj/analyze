{
 "cells": [
  {
   "cell_type": "markdown",
   "metadata": {
    "pycharm": {
     "name": "#%% md\n"
    }
   },
   "source": [
    "### docker上的mysql连接测试"
   ]
  },
  {
   "cell_type": "code",
   "execution_count": 12,
   "metadata": {
    "pycharm": {
     "is_executing": false,
     "name": "#%%\n"
    }
   },
   "outputs": [
    {
     "name": "stdout",
     "output_type": "stream",
     "text": [
      "mysql连接成功=> <pymysql.connections.Connection object at 0x0000001440F5D390>\n"
     ]
    }
   ],
   "source": [
    "import pymysql\n",
    "from pymysql.cursors import DictCursor\n",
    "con = pymysql.connect(host='192.168.99.100', port=3306,\n",
    "                      database='analyze', charset='utf8',\n",
    "                      user='root', password='root',autocommit=True)\n",
    "if con:\n",
    "    print('mysql连接成功=>',con,'\\n\\n\\n\\n\\n')\n",
    "else:\n",
    "    print('mysql连接失败')\n",
    "\n",
    "\n",
    "\n",
    "\n"
   ]
  },
  {
   "cell_type": "markdown",
   "metadata": {},
   "source": [
    "### 测试建库建表"
   ]
  },
  {
   "cell_type": "code",
   "execution_count": 76,
   "metadata": {
    "pycharm": {
     "is_executing": false,
     "name": "#%%\n"
    }
   },
   "outputs": [
    {
     "name": "stdout",
     "output_type": "stream",
     "text": [
      "mysql测试建库建表成功 0\n"
     ]
    }
   ],
   "source": [
    "with con.cursor() as cursor:\n",
    "    result = cursor.execute('DROP TABLE IF EXISTS  tb_log')\n",
    "    result = cursor.execute( 'CREATE TABLE tb_log(  `id` int(20) NOT NULL AUTO_INCREMENT,  `create_time` timestamp NOT NULL DEFAULT \\'0000-00-00 00:00:00\\' ON UPDATE CURRENT_TIMESTAMP,  `log_name` varchar(64) NOT NULL DEFAULT \\'\\',  `log_desc` varchar(255) NOT NULL DEFAULT \\'\\',  PRIMARY KEY (`id`)) ENGINE=InnoDB DEFAULT CHARSET=utf8')\n",
    "con.commit() \n",
    "print('mysql测试建库建表成功',result,'\\n\\n\\n\\n\\n')\n",
    "\n",
    "\n",
    "\n",
    "\n",
    "\n",
    "\n"
   ]
  },
  {
   "cell_type": "markdown",
   "metadata": {},
   "source": [
    "### 测试mysql批量插入 "
   ]
  },
  {
   "cell_type": "code",
   "execution_count": 77,
   "metadata": {
    "pycharm": {
     "is_executing": false,
     "name": "#%%\n"
    }
   },
   "outputs": [
    {
     "name": "stdout",
     "output_type": "stream",
     "text": [
      "mysql批量插入成功 3\n"
     ]
    }
   ],
   "source": [
    "params = (('hechao','asdasdasd'),('hechao1','asdwdad'),('hechao3','adwawd'))\n",
    "with con.cursor() as cursor:  \n",
    "    result = cursor.executemany('insert into tb_log(log_name , log_desc)  values (%s , %s)' , params)\n",
    "con.commit()                  \n",
    "print('mysql批量插入成功',result,'\\n\\n\\n\\n\\n')  \n",
    "\n",
    "\n",
    "\n",
    "\n",
    "\n",
    "\n",
    "\n",
    "\n"
   ]
  },
  {
   "cell_type": "markdown",
   "metadata": {},
   "source": [
    "### 测试mongo数据库连接"
   ]
  },
  {
   "cell_type": "code",
   "execution_count": null,
   "metadata": {
    "pycharm": {
     "name": "#%%\n"
    }
   },
   "outputs": [],
   "source": [
    "import pymongo\n",
    "mongo_client = pymongo.MongoClient(host='192.168.99.100', port=32768)\n",
    "if mongo_client: \n",
    "    print('mongo数据库连接成功',mongo_client.address,'\\n\\n\\n\\n\\n')\n",
    "else:\n",
    "    print('mongo连接失败')\n",
    "\n",
    "\n",
    "\n",
    "\n",
    "\n",
    "\n",
    "\n",
    "\n"
   ]
  },
  {
   "cell_type": "markdown",
   "metadata": {
    "pycharm": {
     "name": "#%% md\n"
    }
   },
   "source": [
    "### 测试mongo插入数据"
   ]
  },
  {
   "cell_type": "code",
   "execution_count": 32,
   "metadata": {
    "pycharm": {
     "is_executing": false,
     "name": "#%%\n"
    }
   },
   "outputs": [
    {
     "name": "stdout",
     "output_type": "stream",
     "text": [
      "mongo插入成功 <pymongo.results.InsertOneResult object at 0x00000014422ED588>\n"
     ]
    }
   ],
   "source": [
    "mongodb = mongo_client[\"runoobdb\"]\n",
    "mycol = mongodb[\"sites\"]\n",
    "mydict = { \"name\": \"RUNOOB\", \"alexa\": \"10000\", \"url\": \"https://www.runoob.com\" }\n",
    "x = mycol.insert_one(mydict) \n",
    "mylist = [\n",
    "  { \"name\": \"Taobao\", \"alexa\": \"100\", \"url\": \"https://www.taobao.com\" },\n",
    "  { \"name\": \"QQ\", \"alexa\": \"101\", \"url\": \"https://www.qq.com\" },\n",
    "  { \"name\": \"Facebook\", \"alexa\": \"10\", \"url\": \"https://www.facebook.com\" },\n",
    "  { \"name\": \"知乎\", \"alexa\": \"103\", \"url\": \"https://www.zhihu.com\" },\n",
    "  { \"name\": \"Github\", \"alexa\": \"109\", \"url\": \"https://www.github.com\" }\n",
    "]\n",
    "y = mycol.insert_many(mylist)\n",
    "if x and y:\n",
    "    print('mongo批量插入成功',x,'\\n\\n\\n\\n\\n')\n",
    "else:\n",
    "    print('插入失败')\n",
    "\n",
    "\n",
    "\n",
    "\n",
    "\n",
    "\n"
   ]
  },
  {
   "cell_type": "markdown",
   "metadata": {
    "pycharm": {
     "name": "#%% md\n"
    }
   },
   "source": [
    "### 测试redis连接"
   ]
  },
  {
   "cell_type": "code",
   "execution_count": 33,
   "metadata": {
    "pycharm": {
     "is_executing": false,
     "name": "#%%\n"
    }
   },
   "outputs": [
    {
     "name": "stdout",
     "output_type": "stream",
     "text": [
      "redis数据库连接成功 Redis<ConnectionPool<Connection<host=192.168.99.100,port=32771,db=0>>>\n"
     ]
    }
   ],
   "source": [
    "import redis\n",
    "redis_client = redis.Redis(host='192.168.99.100', port=32771, password='')\n",
    "if redis_client :\n",
    "    print('redis数据库连接成功',redis_client,'\\n\\n\\n\\n\\n')\n",
    "else:\n",
    "    print('redis连接失败')\n",
    "    \n",
    "    \n",
    "\n",
    "\n",
    "\n",
    "\n",
    "\n",
    "\n",
    "\n"
   ]
  },
  {
   "cell_type": "markdown",
   "metadata": {
    "pycharm": {
     "name": "#%% md\n"
    }
   },
   "source": [
    "### 测试redis插入数据"
   ]
  },
  {
   "cell_type": "code",
   "execution_count": 35,
   "metadata": {
    "pycharm": {
     "is_executing": false,
     "name": "#%%\n"
    }
   },
   "outputs": [
    {
     "name": "stdout",
     "output_type": "stream",
     "text": [
      "redis hash and list写入成功 [b'v1', b'v2'] [b'55', b'44', b'33']\n"
     ]
    }
   ],
   "source": [
    "redis_client.hmset('someset',{'k1':'v1','k2':'v2'})\n",
    "rs=redis_client.hmget('someset','k1','k2')\n",
    "redis_client.lpush('num','33','44','55')\n",
    "rs2=redis_client.lrange('num','0','2')\n",
    "if rs and rs2:\n",
    "    print('redis hash and list写入成功',rs , rs2,'\\n\\n\\n\\n\\n')\n",
    "else :\n",
    "    print('redis hash or list 写入失败')\n",
    "\n",
    "\n",
    "\n",
    "\n",
    "\n",
    "\n",
    "\n"
   ]
  },
  {
   "cell_type": "markdown",
   "metadata": {
    "pycharm": {
     "name": "#%% md\n"
    }
   },
   "source": [
    "### 测试rabbitmq连接"
   ]
  },
  {
   "cell_type": "code",
   "execution_count": 46,
   "metadata": {
    "pycharm": {
     "is_executing": false,
     "name": "#%%\n"
    }
   },
   "outputs": [
    {
     "name": "stdout",
     "output_type": "stream",
     "text": [
      "rabbitmq连接成功 <BlockingConnection impl=<SelectConnection OPEN transport=<pika.adapters.utils.io_services_utils._AsyncPlaintextTransport object at 0x000000144225C9E8> params=<ConnectionParameters host=192.168.99.100 port=32773 virtual_host=/ ssl=False>>>\n"
     ]
    }
   ],
   "source": [
    "import pika\n",
    "# rabbit_connection = pika.BlockingConnection(pika.ConnectionParameters(host='192.168.99.100',port=32773))\n",
    "# if  rabbit_connection :\n",
    "#     print('rabbitmq连接成功',rabbit_connection)\n",
    "# else:\n",
    "#     print('rabbitmq连接失败')\n",
    "\n",
    "\n",
    "\n",
    "\n",
    "\n",
    "\n"
   ]
  },
  {
   "cell_type": "markdown",
   "metadata": {
    "pycharm": {
     "name": "#%% md\n"
    }
   },
   "source": [
    "### 测试rabbitmq消息测试"
   ]
  },
  {
   "cell_type": "code",
   "execution_count": 59,
   "metadata": {
    "pycharm": {
     "is_executing": false,
     "name": "#%%\n"
    }
   },
   "outputs": [
    {
     "name": "stdout",
     "output_type": "stream",
     "text": [
      "send message: 16:15:54\n",
      "messageCount: 0\n",
      "send message: 16:15:54\n",
      "messageCount: 0\n",
      "rabbitmq测试正常\n"
     ]
    }
   ],
   "source": [
    "import time   \n",
    "credentials = pika.PlainCredentials(\"guest\", \"guest\")\n",
    "parameters = pika.ConnectionParameters(host=\"192.168.99.100\", port=32777, credentials=credentials)\n",
    "connection = pika.BlockingConnection(parameters)\n",
    "channel = connection.channel()\n",
    "queue = channel.queue_declare(queue='queuetest')\n",
    "counter=2\n",
    "while counter>0:\n",
    "    counter=counter-1\n",
    "    message = time.strftime('%H:%M:%S', time.localtime())\n",
    "    channel.basic_publish(exchange='', routing_key='rkeytest',body=message)\n",
    "    print('send message: %s' %  message) \n",
    "    while True:\n",
    "        queue = channel.queue_declare(queue='queuetest', passive=True)  \n",
    "        messageCount = queue.method.message_count\n",
    "        print('messageCount: %d' % messageCount)\n",
    "        if messageCount < 10:\n",
    "            break\n",
    "        con.sleep(1)\n",
    "connection.close()\n",
    "print('rabbitmq测试正常','\\n\\n\\n\\n\\n')\n",
    "\n",
    "\n",
    "\n",
    "\n",
    "\n",
    "\n"
   ]
  },
  {
   "cell_type": "markdown",
   "metadata": {},
   "source": [
    "\n",
    "end   \n",
    "\n"
   ]
  }
 ],
 "metadata": {
  "kernelspec": {
   "display_name": "Python 3",
   "language": "python",
   "name": "python3"
  },
  "language_info": {
   "codemirror_mode": {
    "name": "ipython",
    "version": 3
   },
   "file_extension": ".py",
   "mimetype": "text/x-python",
   "name": "python",
   "nbconvert_exporter": "python",
   "pygments_lexer": "ipython3",
   "version": "3.7.3"
  },
  "pycharm": {
   "stem_cell": {
    "cell_type": "raw",
    "metadata": {
     "collapsed": false
    },
    "source": []
   }
  }
 },
 "nbformat": 4,
 "nbformat_minor": 1
}
